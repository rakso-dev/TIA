{
  "nbformat": 4,
  "nbformat_minor": 0,
  "metadata": {
    "colab": {
      "name": "posture_detector.ipynb",
      "provenance": [],
      "authorship_tag": "ABX9TyOizaMYBcRNFXl3ISIsAoek",
      "include_colab_link": true
    },
    "kernelspec": {
      "name": "python3",
      "display_name": "Python 3"
    },
    "language_info": {
      "name": "python"
    }
  },
  "cells": [
    {
      "cell_type": "markdown",
      "metadata": {
        "id": "view-in-github",
        "colab_type": "text"
      },
      "source": [
        "<a href=\"https://colab.research.google.com/github/rakso-dev/TIA/blob/main/posture_detector.ipynb\" target=\"_parent\"><img src=\"https://colab.research.google.com/assets/colab-badge.svg\" alt=\"Open In Colab\"/></a>"
      ]
    },
    {
      "cell_type": "code",
      "execution_count": 2,
      "metadata": {
        "id": "JXBHzHGu-ipL"
      },
      "outputs": [],
      "source": [
        "import cv2\n",
        "import numpy as np"
      ]
    },
    {
      "cell_type": "code",
      "source": [
        "#camera_device = args.camera\n",
        "camera_device = 0\n",
        "video = cv2.VideoCapture(camera_device)\n",
        "width = int(video.get(cv2.CAP_PROP_FRAME_WIDTH))\n",
        "height = int(video.get(cv2.CAP_PROP_FRAME_HEIGHT))\n",
        "\n",
        "while(video.isOpened()):\n",
        "    ret, frame = video.read()\n",
        "    if frame is None:\n",
        "        print('Trono la cam lol')\n",
        "        break\n",
        "\n",
        "    #detect_and_display(frame)\n",
        "\n",
        "    if cv2.waitKey(1) & 0xFF == ord('q'):\n",
        "        break\n",
        "\n"
      ],
      "metadata": {
        "id": "k2_MV3yqGES_"
      },
      "execution_count": 6,
      "outputs": []
    }
  ]
}